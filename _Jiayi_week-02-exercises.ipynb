{
 "cells": [
  {
   "cell_type": "markdown",
   "id": "48ec4df2",
   "metadata": {},
   "source": [
    "<h1><center> PPOL 5203 Data Science I: Foundations <br><br> \n",
    "<font color='grey'>Week 2: Practice Exercise<br><br>\n",
    "Tiago Ventura</center></center> <h1> \n"
   ]
  },
  {
   "cell_type": "markdown",
   "id": "f5d70a9f",
   "metadata": {},
   "source": [
    "### Question 1: Writing good code!\n",
    "\n",
    "Consider the Python snippet below that simulates some data, runs a linear regression on the simulated data, and plots the predictors of the regression. \n",
    "\n",
    "This is a poorly written code. It has the following issues: \n",
    "\n",
    "- No comments documenting what the code is doing\n",
    "- Poor redability\n",
    "- Graphs with no meaning\n",
    "- lines of code doing multiple things (you could split it up and make it more readable). \n",
    "\n",
    "As an exercise, provide a refactored code as the solution to this problem. You solution needs to fix all the issues mentioned above. Check the slides if you need help. \n",
    "\n"
   ]
  },
  {
   "cell_type": "code",
   "execution_count": 3,
   "id": "b1f25e0c",
   "metadata": {},
   "outputs": [
    {
     "data": {
      "text/plain": [
       "<matplotlib.collections.PathCollection at 0x147b3b620>"
      ]
     },
     "execution_count": 3,
     "metadata": {},
     "output_type": "execute_result"
    },
    {
     "data": {
      "image/png": "[encoded data removed]",
      "text/plain": [
       "<Figure size 640x480 with 1 Axes>"
      ]
     },
     "metadata": {},
     "output_type": "display_data"
    }
   ],
   "source": [
    "import numpy as np\n",
    "import matplotlib.pyplot as plt\n",
    "\n",
    "a = np.random.rand(100)\n",
    "# Generate dependent variable y = 5 + 3*x + noise\n",
    "x = np.random.rand(100)\n",
    "noise = np.random.normal(0, 1, size=100)  # random noise\n",
    "y = 5 + 3*a + np.random.normal(size=100)\n",
    "# Plot the simulated data\n",
    "plt.scatter(x, y, color = 'red')"
   ]
  },
  {
   "cell_type": "markdown",
   "id": "5ca7a04a",
   "metadata": {},
   "source": [
    "\n",
    "### Question 2: Initialize version control with git. \n",
    "\n",
    "Create a folder called “Practice” on your local computer. Use the commandline to navigate to that folder. Next, initialize a git repository in that folder. Do all these steps using the commandline"
   ]
  },
  {
   "cell_type": "code",
   "execution_count": null,
   "id": "59d34a56",
   "metadata": {},
   "outputs": [],
   "source": [
    "# ADD YOUR CODE (from Commandline) and Describe your steps HERE\n",
    "cd ~/Documents/ppol_5203/practice #create a folder and navigate to it\n",
    "git init# initialize a git repository"
   ]
  },
  {
   "cell_type": "markdown",
   "id": "20da956a",
   "metadata": {},
   "source": [
    "### Question 3: Git \n",
    "\n",
    "Using the git repository that you created in Question 1. Do the following: \n",
    "\n",
    "1. Create a `.txt` named `notes_about_ds5203` using either the commandline or just make this file yourself and move to the folder. \n",
    "\n",
    "2. Add that file to the staging area.\n",
    "\n",
    "3. Commit that file with a clear commit message\n",
    "\n",
    "4. Check to see if the file is staged using git status;\n",
    "\n",
    "5. Now update the file (i.e., make some change to it) and stage and commit that change;\n",
    "\n",
    "6. Look at your git log to see the two commits you made."
   ]
  },
  {
   "cell_type": "code",
   "execution_count": null,
   "id": "71f6f459",
   "metadata": {},
   "outputs": [],
   "source": [
    "# ADD YOUR CODE (from Commandline) and Describe your steps HERE\n",
    "vim notes_about_ds5203.txt #create a txt\n",
    "git add notes_about_ds5203.txt #add the file to the staging area\n",
    "git commit -m \"notes_ds_practice\"  #commit the with the commit message        \n",
    "git status #check the status\n",
    "vim notes_about_ds5203.txt #update the file\n",
    "git add notes_about_ds5203.txt #add the file to the staging area again\n",
    "git commit -m\"update_note2\" #commit the change\n",
    "git log #see the two commits"
   ]
  },
  {
   "cell_type": "markdown",
   "id": "53368e4d",
   "metadata": {},
   "source": [
    "### Question 3: Github\n",
    "\n",
    "1. Create a new repository on your own Github account\n",
    "\n",
    "2. Clone the repository at your local machine\n",
    "\n",
    "3. Make some changes in your local machine\n",
    "\n",
    "4. Push your local changes to your github repository"
   ]
  },
  {
   "cell_type": "code",
   "execution_count": null,
   "id": "e283ba17",
   "metadata": {},
   "outputs": [],
   "source": [
    "# ADD YOUR CODE (from Commandline) and Describe your steps HERE\n",
    "git clone https://github.com/jia015025/in_class_1.git #create a new repository \n",
    "cd in_class_1 #navigate to it\n",
    "vim in_class_1.txt\n",
    "git status\n",
    "git add in_class_1.txt\n",
    "git commit -m\"add in class\" \n",
    "git push origin main"
   ]
  },
  {
   "cell_type": "code",
   "execution_count": 1,
   "id": "da59cc9b",
   "metadata": {},
   "outputs": [
    {
     "name": "stdout",
     "output_type": "stream",
     "text": [
      "[NbConvertApp] Converting notebook _week-02-exercises.ipynb to html\n",
      "[NbConvertApp] Writing 295722 bytes to _week-02-exercises.html\n"
     ]
    }
   ],
   "source": [
    "# dont care about this!\n",
    "#!jupyter nbconvert _week-02-exercises.ipynb --to html --template classic\n"
   ]
  }
 ],
 "metadata": {
  "kernelspec": {
   "display_name": "Python [conda env:base] *",
   "language": "python",
   "name": "conda-base-py"
  },
  "language_info": {
   "codemirror_mode": {
    "name": "ipython",
    "version": 3
   },
   "file_extension": ".py",
   "mimetype": "text/x-python",
   "name": "python",
   "nbconvert_exporter": "python",
   "pygments_lexer": "ipython3",
   "version": "3.13.5"
  }
 },
 "nbformat": 4,
 "nbformat_minor": 5
}
